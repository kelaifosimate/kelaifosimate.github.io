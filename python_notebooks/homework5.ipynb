{
 "cells": [
  {
   "cell_type": "code",
   "execution_count": null,
   "id": "2b93c98c",
   "metadata": {
    "vscode": {
     "languageId": "plaintext"
    }
   },
   "outputs": [],
   "source": [
    "import pandas as pd\n",
    "import altair as alt\n",
    "import numpy as np\n",
    "from datetime import datetime\n",
    "import re"
   ]
  },
  {
   "cell_type": "code",
   "execution_count": null,
   "id": "0f5d4d9c",
   "metadata": {
    "vscode": {
     "languageId": "plaintext"
    }
   },
   "outputs": [],
   "source": [
    "alt.data_transformers.disable_max_rows()"
   ]
  },
  {
   "cell_type": "code",
   "execution_count": null,
   "id": "7d86b0c4",
   "metadata": {
    "vscode": {
     "languageId": "plaintext"
    }
   },
   "outputs": [],
   "source": [
    "url = \"https://github.com/UIUC-iSchool-DataViz/is445_data/raw/main/bfro_reports_fall2022.csv\"\n",
    "df = pd.read_csv(url)\n",
    "\n",
    "print(f\"Dataset shape: {df.shape}\")\n",
    "df.head()"
   ]
  },
  {
   "cell_type": "code",
   "execution_count": null,
   "id": "858300e1",
   "metadata": {
    "vscode": {
     "languageId": "plaintext"
    }
   },
   "outputs": [],
   "source": [
    "df.isnull().sum()"
   ]
  },
  {
   "cell_type": "code",
   "execution_count": null,
   "id": "9858c826",
   "metadata": {
    "vscode": {
     "languageId": "plaintext"
    }
   },
   "outputs": [],
   "source": [
    "def extract_year(date_str):\n",
    "    if pd.isna(date_str):\n",
    "        return np.nan\n",
    "    \n",
    "    # Try to find a 4-digit year pattern\n",
    "    year_match = re.search(r'\\b(19\\d{2}|20\\d{2})\\b', str(date_str))\n",
    "    if year_match:\n",
    "        return int(year_match.group(1))\n",
    "    return np.nan\n",
    "\n",
    "df['year'] = df['date'].apply(extract_year)\n",
    "\n",
    "df_clean = df.dropna(subset=['latitude', 'longitude', 'year'])\n",
    "\n",
    "df_clean = df_clean[(df_clean['year'] >= 1950) & (df_clean['year'] <= 2022)]"
   ]
  },
  {
   "cell_type": "code",
   "execution_count": null,
   "id": "9629d510",
   "metadata": {
    "vscode": {
     "languageId": "plaintext"
    }
   },
   "outputs": [],
   "source": [
    "state_counts = df_clean.groupby('state').size().reset_index(name='count')\n",
    "state_counts = state_counts.sort_values('count', ascending=False)\n",
    "\n",
    "state_counts.head()"
   ]
  },
  {
   "cell_type": "code",
   "execution_count": null,
   "id": "f1d7df6a",
   "metadata": {
    "vscode": {
     "languageId": "plaintext"
    }
   },
   "outputs": [],
   "source": [
    "year_counts = df_clean.groupby('year').size().reset_index(name='count')\n",
    "\n",
    "season_counts = df_clean.groupby('season').size().reset_index(name='count')\n",
    "season_counts"
   ]
  },
  {
   "cell_type": "code",
   "execution_count": null,
   "id": "723dbd55",
   "metadata": {
    "vscode": {
     "languageId": "plaintext"
    }
   },
   "outputs": [],
   "source": [
    "classification_counts = df_clean.groupby('classification').size().reset_index(name='count')\n",
    "\n",
    "classification_counts"
   ]
  },
  {
   "cell_type": "code",
   "execution_count": null,
   "id": "c6eda5e6",
   "metadata": {
    "vscode": {
     "languageId": "plaintext"
    }
   },
   "outputs": [],
   "source": [
    "states = alt.topo_feature('https://cdn.jsdelivr.net/npm/vega-datasets@v1.29.0/data/us-10m.json', 'states')\n",
    "\n",
    "background = alt.Chart(states).mark_geoshape(\n",
    "    fill='lightgray',\n",
    "    stroke='white'\n",
    ").properties(\n",
    "    width=800,\n",
    "    height=500\n",
    ").project('albersUsa')\n"
   ]
  },
  {
   "cell_type": "code",
   "execution_count": null,
   "id": "fe9fca2b",
   "metadata": {
    "vscode": {
     "languageId": "plaintext"
    }
   },
   "outputs": [],
   "source": [
    "year_slider = alt.binding_range(min=int(df_clean['year'].min()), \n",
    "                               max=int(df_clean['year'].max()), \n",
    "                               step=1, \n",
    "                               name='Year: ')\n",
    "year_selection = alt.selection_point(fields=['year_threshold'], \n",
    "                                    bind=year_slider, \n",
    "                                    value={'year_threshold': 2000})"
   ]
  },
  {
   "cell_type": "code",
   "execution_count": null,
   "id": "3e5fd1ba",
   "metadata": {
    "vscode": {
     "languageId": "plaintext"
    }
   },
   "outputs": [],
   "source": [
    "points = alt.Chart(df_clean).mark_circle(size=60, opacity=0.6).encode(\n",
    "    longitude='longitude:Q',\n",
    "    latitude='latitude:Q',\n",
    "    color=alt.Color('classification:N', scale=alt.Scale(scheme='category10'),\n",
    "                  legend=alt.Legend(title=\"Classification Type\")),\n",
    "    tooltip=['state:N', 'county:N', 'year:Q', 'season:N', 'classification:N', 'observed:N']\n",
    ").transform_filter(\n",
    "    alt.datum.year <= year_selection.year_threshold\n",
    ").properties(\n",
    "    title=alt.TitleParams(\n",
    "        ['Bigfoot Sightings in the United States',\n",
    "         'Drag the slider to filter by year'],\n",
    "        anchor='middle'\n",
    "    )\n",
    ")"
   ]
  },
  {
   "cell_type": "code",
   "execution_count": null,
   "id": "65bb985f",
   "metadata": {
    "vscode": {
     "languageId": "plaintext"
    }
   },
   "outputs": [],
   "source": [
    "map_chart = background + points.add_selection(year_selection)\n",
    "\n",
    "map_chart.save('assets/json/bigfoot_map.json')"
   ]
  },
  {
   "cell_type": "code",
   "execution_count": null,
   "id": "e53720b0",
   "metadata": {
    "vscode": {
     "languageId": "plaintext"
    }
   },
   "outputs": [],
   "source": [
    "seasonal_state = df_clean.groupby(['state', 'season']).size().reset_index(name='count')\n",
    "\n",
    "state_dropdown = alt.binding_select(\n",
    "    options=sorted(df_clean['state'].unique().tolist()),\n",
    "    name='State: '\n",
    ")\n",
    "state_select = alt.selection_point(fields=['state'], bind=state_dropdown, value={'state': 'CA'})\n",
    "\n",
    "seasonal_chart = alt.Chart(seasonal_state).mark_bar().encode(\n",
    "    x=alt.X('season:N', title='Season', sort=['Spring', 'Summer', 'Fall', 'Winter']),\n",
    "    y=alt.Y('count:Q', title='Number of Sightings'),\n",
    "    color=alt.Color('season:N', \n",
    "                  scale=alt.Scale(domain=['Spring', 'Summer', 'Fall', 'Winter'],\n",
    "                                 range=['#A1D99B', '#FC8D59', '#B30000', '#67A9CF']),\n",
    "                  legend=None),\n",
    "    tooltip=['state:N', 'season:N', 'count:Q']\n",
    ").transform_filter(\n",
    "    state_select\n",
    ").properties(\n",
    "    width=600,\n",
    "    height=400,\n",
    "    title=alt.TitleParams(\n",
    "        ['Seasonal Patterns of Bigfoot Sightings',\n",
    "         'Select a state from the dropdown menu'],\n",
    "        anchor='middle'\n",
    "    )\n",
    ").add_selection(\n",
    "    state_select\n",
    ")\n",
    "\n",
    "seasonal_chart.save('assets/json/bigfoot_seasonal.json')\n",
    "\n",
    "map_chart"
   ]
  }
 ],
 "metadata": {
  "language_info": {
   "name": "python"
  }
 },
 "nbformat": 4,
 "nbformat_minor": 5
}
